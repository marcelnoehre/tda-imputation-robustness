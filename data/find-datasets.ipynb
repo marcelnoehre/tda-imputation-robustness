{
 "cells": [
  {
   "cell_type": "markdown",
   "id": "79b70966",
   "metadata": {},
   "source": [
    "# Filtering suitable datasets from OpenML"
   ]
  },
  {
   "cell_type": "code",
   "execution_count": 1,
   "id": "174dc045",
   "metadata": {},
   "outputs": [
    {
     "name": "stdout",
     "output_type": "stream",
     "text": [
      "\u001b[32;20m[2025-06-19 10:15:53]\u001b[37;20m | \u001b[0mFound 6270 datasets on OpenML\n"
     ]
    }
   ],
   "source": [
    "import openml\n",
    "from sklearn.datasets import fetch_openml\n",
    "\n",
    "import warnings\n",
    "warnings.filterwarnings('ignore')\n",
    "\n",
    "import sys\n",
    "import os\n",
    "sys.path.insert(0, os.path.abspath(os.path.join(os.path.dirname('src'), '..')))\n",
    "\n",
    "from src.logger import log\n",
    "from src.visualize import table\n",
    "from src.constants import *\n",
    "\n",
    "datasets = openml.datasets.list_datasets(output_format='dataframe')\n",
    "log(f\"Found {len(datasets)} datasets on OpenML\")"
   ]
  },
  {
   "cell_type": "markdown",
   "id": "b14b1ff3",
   "metadata": {},
   "source": [
    "## Automatically Filter Datasets\n",
    "The following filtering steps were applied to OpenML datasets:\n",
    "\n",
    "1. **Initial Constraints**  \n",
    "    - Status marked as **active**\n",
    "    - Contain **no missing values**\n",
    "    - Contain **no symbolic (categorical) features**\n",
    "\n",
    "2. **Feature and Sample Bounds**  \n",
    "    - Number of **numeric features** within a predefined range: `MIN_NUM_FEATURES` to `MAX_NUM_FEATURES`\n",
    "    - Number of **instances (samples)** within a predefined range: `MIN_SAMPLES` to `MAX_SAMPLES`\n",
    "\n",
    "3. **Deduplication**  \n",
    "    - Sorting by dataset name and version (descending)\n",
    "    - Removing duplicate names while keeping the latest version\n",
    "\n",
    "4. **Exclusion of Sparse Datasets**  \n",
    "    - Removing sparse datasets that could not be parsed"
   ]
  },
  {
   "cell_type": "code",
   "execution_count": 2,
   "id": "hollow-quick",
   "metadata": {},
   "outputs": [
    {
     "name": "stdout",
     "output_type": "stream",
     "text": [
      "\u001b[32;20m[2025-06-19 10:15:53]\u001b[37;20m | \u001b[0m1489 active datasets with numeric features, no missing values, and no symbolic features\n",
      "\u001b[32;20m[2025-06-19 10:15:53]\u001b[37;20m | \u001b[0m89 datasets with 8-25 numerical features and 500-1500 instances\n",
      "\u001b[32;20m[2025-06-19 10:15:53]\u001b[37;20m | \u001b[0m72 datasets after removing duplicates\n",
      "\u001b[32;20m[2025-06-19 10:15:54]\u001b[37;20m | \u001b[0m70 datasets after removing sparse datasets\n"
     ]
    },
    {
     "data": {
      "text/markdown": [
       "|   did | name                                                 |   NumberOfInstances |   NumberOfFeatures |\n",
       "|-------|------------------------------------------------------|---------------------|--------------------|\n",
       "| 43465 | Boston-house-price-data                              |                 506 |                 14 |\n",
       "| 43448 | Calculate-Concrete-Strength                          |                1030 |                  9 |\n",
       "|  4353 | Concrete_Data                                        |                1030 |                  9 |\n",
       "| 43701 | Contraceptive-Method-Choice                          |                1472 |                 10 |\n",
       "| 46416 | Creditability-German-Credit-Data                     |                1000 |                 21 |\n",
       "| 43384 | Diabetes-Data-Set                                    |                 768 |                  9 |\n",
       "| 46254 | Diabetes_Dataset                                     |                 768 |                  9 |\n",
       "| 43563 | Digital-currency---Time-series                       |                1000 |                 10 |\n",
       "| 43540 | Emissions-by-Cars                                    |                 679 |                 13 |\n",
       "| 43338 | Energy-Efficiency-Dataset                            |                 768 |                 10 |\n",
       "| 43440 | Forest-Fire-Area                                     |                 517 |                 13 |\n",
       "| 43807 | Forest-Fires-Data-Set-Portugal                       |                 517 |                 13 |\n",
       "| 46815 | G20                                                  |                 627 |                 10 |\n",
       "| 43808 | German-Credit-Data                                   |                1000 |                 21 |\n",
       "| 46356 | GermanCreditData                                     |                1000 |                 22 |\n",
       "| 43682 | Heart-Disease-Dataset-(Comprehensive)                |                1190 |                 12 |\n",
       "| 43588 | Household-monthly-electricity-bill                   |                1000 |                 10 |\n",
       "| 43403 | Indian-Liver-Patient-Patient-Records-KFolds-5folds   |                 583 |                 12 |\n",
       "| 44203 | Intersectional-Bias-Assessment-(Testing-Data)        |                1000 |                 19 |\n",
       "| 43582 | Pima-Indians-Diabetes                                |                 768 |                  9 |\n",
       "| 43483 | Pima-Indians-Diabetes-Dataset                        |                 768 |                  9 |\n",
       "| 43699 | QSAR-Bioconcentration-Classes-Data-Set               |                 779 |                 13 |\n",
       "| 43581 | QSAR-Bioconcentration-classes-dataset                |                 779 |                 14 |\n",
       "| 46585 | QSAR_Bioconcentration_classification                 |                 779 |                 13 |\n",
       "| 47001 | QSAR_Bioconcentration_regression                     |                 779 |                 13 |\n",
       "|  1028 | SWD                                                  |                1000 |                 11 |\n",
       "| 42438 | Titanic                                              |                 891 |                  8 |\n",
       "| 42351 | UCI-student-performance-por                          |                 649 |                 33 |\n",
       "| 42464 | Waterstress                                          |                1188 |                 23 |\n",
       "| 44994 | cars                                                 |                 804 |                 18 |\n",
       "| 45054 | cmc                                                  |                1473 |                 10 |\n",
       "| 43000 | cnn-stock-pred-dji                                   |                 522 |                 21 |\n",
       "| 46917 | concrete_compressive_strength                        |                1030 |                  9 |\n",
       "| 46572 | database                                             |                 768 |                  9 |\n",
       "| 46555 | dataset_credit-approval                              |                 690 |                 16 |\n",
       "| 46532 | dataset_credit-g                                     |                1000 |                 21 |\n",
       "| 41553 | enb                                                  |                 768 |                 10 |\n",
       "| 44960 | energy_efficiency                                    |                 768 |                  9 |\n",
       "| 44962 | forest_fires                                         |                 517 |                 13 |\n",
       "| 46587 | forestfires                                          |                 517 |                 13 |\n",
       "|   595 | fri_c0_1000_10                                       |                1000 |                 11 |\n",
       "|   654 | fri_c0_500_10                                        |                 500 |                 11 |\n",
       "|   593 | fri_c1_1000_10                                       |                1000 |                 11 |\n",
       "|   641 | fri_c1_500_10                                        |                 500 |                 11 |\n",
       "|   606 | fri_c2_1000_10                                       |                1000 |                 11 |\n",
       "|   627 | fri_c2_500_10                                        |                 500 |                 11 |\n",
       "|   608 | fri_c3_1000_10                                       |                1000 |                 11 |\n",
       "|   646 | fri_c3_500_10                                        |                 500 |                 11 |\n",
       "|   623 | fri_c4_1000_10                                       |                1000 |                 11 |\n",
       "|   604 | fri_c4_500_10                                        |                 500 |                 11 |\n",
       "| 46604 | glioma_grading_clinical_and_mutation_features        |                 839 |                 24 |\n",
       "| 46168 | grace                                                |                1000 |                  8 |\n",
       "| 42999 | hungarian-chickenpox                                 |                 522 |                 21 |\n",
       "| 41943 | ilpd-numeric                                         |                 583 |                 11 |\n",
       "| 46761 | mental_health_detection                              |                 540 |                 16 |\n",
       "| 43127 | mytestdataset                                        |                 992 |                 16 |\n",
       "|   547 | no2                                                  |                 500 |                  8 |\n",
       "|   522 | pm10                                                 |                 500 |                  8 |\n",
       "| 46295 | qsar_aquatic_toxicity                                |                 546 |                  9 |\n",
       "|   666 | rmftsa_ladata                                        |                 508 |                 11 |\n",
       "|   223 | stock                                                |                 950 |                 10 |\n",
       "| 46589 | student-performance-uci                              |                 649 |                 31 |\n",
       "| 44029 | student_performance_por                              |                 649 |                 31 |\n",
       "| 46731 | temperature_emissions_environmental_trends_2000_2024 |                1000 |                 10 |\n",
       "| 42437 | titanic                                              |                 891 |                  8 |\n",
       "| 42441 | titanic_1                                            |                 891 |                  8 |\n",
       "| 42444 | titanic_2                                            |                 891 |                  8 |\n",
       "| 42445 | titanic_3                                            |                 891 |                  8 |\n",
       "| 42367 | treasury                                             |                1049 |                 16 |\n",
       "| 42369 | weather_izmir                                        |                1461 |                 10 |"
      ],
      "text/plain": [
       "<IPython.core.display.Markdown object>"
      ]
     },
     "metadata": {},
     "output_type": "display_data"
    }
   ],
   "source": [
    "datasets = datasets[\n",
    "    (datasets['NumberOfMissingValues'] == 0) &\n",
    "    (datasets['NumberOfSymbolicFeatures'] == 0) &\n",
    "    (datasets['status'] == 'active')\n",
    "]\n",
    "log(f\"{len(datasets)} active datasets with numeric features, no missing values, and no symbolic features\")\n",
    "\n",
    "datasets = datasets[\n",
    "    (datasets['NumberOfNumericFeatures'] >= MIN_NUM_FEATURES) &\n",
    "    (datasets['NumberOfNumericFeatures'] <= MAX_NUM_FEATURES) &\n",
    "    (datasets['NumberOfInstances'] >= MIN_SAMPLES) &\n",
    "    (datasets['NumberOfInstances'] <= MAX_SAMPLES)\n",
    "]\n",
    "log(f\"{len(datasets)} datasets with {MIN_NUM_FEATURES}-{MAX_NUM_FEATURES} numerical features and {MIN_SAMPLES}-{MAX_SAMPLES} instances\")\n",
    "\n",
    "datasets = datasets.sort_values(by=['name', 'version'], ascending=[True, False]).drop_duplicates(subset='name', keep='first')\n",
    "log(f\"{len(datasets)} datasets after removing duplicates\")\n",
    "        \n",
    "sparse = []\n",
    "for did in datasets['did']:\n",
    "    try:\n",
    "        fetch_openml(data_id=did, as_frame=True)\n",
    "    except Exception as e:\n",
    "        sparse.append(did)\n",
    "datasets = datasets[~datasets['did'].isin(sparse)]\n",
    "log(f\"{len(datasets)} datasets after removing sparse datasets\")\n",
    "\n",
    "table([[row[k] for k in DATASET_KEYS] for _, row in datasets.iterrows()], DATASET_KEYS)"
   ]
  },
  {
   "cell_type": "markdown",
   "id": "ab07a859",
   "metadata": {},
   "source": [
    "## Manually Filter Datasets\n",
    "The following filtering steps were applied to OpenML datasets:\n",
    "\n",
    "1. **Numeric features**\n",
    "    - TDA requires pointwise distance, which only works for numeric data\n",
    "\n",
    "2. **Continuous features**\n",
    "    - Distances are meaningless for categorical numeric features\n",
    "    - Removing data with categorical features\n",
    "\n",
    "3. **Deduplication**  \n",
    "    - Removing duplicates while keeping the latest version\n",
    "\n",
    "4. **Friedman datasets**  \n",
    "    - Datasets represent random functional releationships\n",
    "    - Unsuitable due to the lack of topological structure"
   ]
  },
  {
   "cell_type": "code",
   "execution_count": 3,
   "id": "04ee8c95",
   "metadata": {},
   "outputs": [
    {
     "name": "stdout",
     "output_type": "stream",
     "text": [
      "\u001b[32;20m[2025-06-19 10:15:54]\u001b[37;20m | \u001b[0m52 datasets after removing datasets with non-numeric features\n",
      "\u001b[32;20m[2025-06-19 10:15:54]\u001b[37;20m | \u001b[0m23 datasets after removing datasets with categorical features\n",
      "\u001b[32;20m[2025-06-19 10:15:54]\u001b[37;20m | \u001b[0m18 datasets after removing duplicates\n",
      "\u001b[32;20m[2025-06-19 10:15:54]\u001b[37;20m | \u001b[0m8 datasets after removing Friedman datasets\n"
     ]
    },
    {
     "data": {
      "text/markdown": [
       "|   did | name                 |   NumberOfInstances |   NumberOfFeatures |\n",
       "|-------|----------------------|---------------------|--------------------|\n",
       "|  4353 | Concrete_Data        |                1030 |                  9 |\n",
       "| 43384 | Diabetes-Data-Set    |                 768 |                  9 |\n",
       "| 43000 | cnn-stock-pred-dji   |                 522 |                 21 |\n",
       "| 42999 | hungarian-chickenpox |                 522 |                 21 |\n",
       "|   666 | rmftsa_ladata        |                 508 |                 11 |\n",
       "|   223 | stock                |                 950 |                 10 |\n",
       "| 42367 | treasury             |                1049 |                 16 |\n",
       "| 42369 | weather_izmir        |                1461 |                 10 |"
      ],
      "text/plain": [
       "<IPython.core.display.Markdown object>"
      ]
     },
     "metadata": {},
     "output_type": "display_data"
    }
   ],
   "source": [
    "non_numeric = [43440, 43807, 44203, 43699, 43581, 46585, 47001, 42351,\n",
    "44962, 46587, 46604, 43127, 46589, 44029, 43540, 46815, 43563, 46731]\n",
    "datasets = datasets[~datasets['did'].isin(non_numeric)]\n",
    "log(f\"{len(datasets)} datasets after removing datasets with non-numeric features\")\n",
    "\n",
    "categorical = [43465, 43701, 46416, 43338, 43808, 43682, 43588, 43403,\n",
    "1028, 44994, 45054, 46555, 46532, 41553, 41943, 46761, 43582, 46356, 46356,\n",
    "42438, 42464, 44960, 46168, 547, 522, 46295, 42437, 42441, 42444, 42445]\n",
    "datasets = datasets[~datasets['did'].isin(categorical)]\n",
    "log(f\"{len(datasets)} datasets after removing datasets with categorical features\")\n",
    "\n",
    "duplicates = [\n",
    "    43448, 46917, # Keep: 4353\n",
    "    46254, 43483, 46572, # Keep: 43384\n",
    "]\n",
    "datasets = datasets[~datasets['did'].isin(duplicates)]\n",
    "log(f\"{len(datasets)} datasets after removing duplicates\")\n",
    "\n",
    "friedman = [595, 609, 654, 649, 593, 612, 641, 631, 606, 599, 627, 597, 608, 628, 646, 617, 623, 604]\n",
    "datasets = datasets[~datasets['did'].isin(friedman)]\n",
    "log(f\"{len(datasets)} datasets after removing Friedman datasets\")\n",
    "\n",
    "table([[row[k] for k in DATASET_KEYS] for _, row in datasets.iterrows()], DATASET_KEYS)"
   ]
  }
 ],
 "metadata": {
  "kernelspec": {
   "display_name": "tda",
   "language": "python",
   "name": "python3"
  },
  "language_info": {
   "codemirror_mode": {
    "name": "ipython",
    "version": 3
   },
   "file_extension": ".py",
   "mimetype": "text/x-python",
   "name": "python",
   "nbconvert_exporter": "python",
   "pygments_lexer": "ipython3",
   "version": "3.11.13"
  }
 },
 "nbformat": 4,
 "nbformat_minor": 5
}
